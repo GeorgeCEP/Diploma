{
 "cells": [
  {
   "cell_type": "code",
   "execution_count": null,
   "id": "b8a524de",
   "metadata": {},
   "outputs": [],
   "source": [
    "import pandas as pd\n",
    "import numpy as np"
   ]
  },
  {
   "cell_type": "code",
   "execution_count": null,
   "id": "7b89b36a",
   "metadata": {},
   "outputs": [],
   "source": [
    "!git clone -q https://github.com/dvolynov/HEA_network.git"
   ]
  },
  {
   "cell_type": "code",
   "execution_count": null,
   "id": "f905b45a",
   "metadata": {},
   "outputs": [],
   "source": [
    "%cd HEA_network"
   ]
  },
  {
   "cell_type": "code",
   "execution_count": null,
   "id": "60fca748",
   "metadata": {},
   "outputs": [],
   "source": [
    "!pip -q install -r 'requirements.txt'"
   ]
  },
  {
   "cell_type": "code",
   "execution_count": null,
   "id": "357a6aed",
   "metadata": {},
   "outputs": [],
   "source": [
    "from modules.initializer import Initializer\n",
    "from modules.transition_matrix import TransitionMatrix\n",
    "from modules.config import Config"
   ]
  },
  {
   "cell_type": "code",
   "execution_count": null,
   "id": "3df710d7",
   "metadata": {},
   "outputs": [],
   "source": [
    "%cd '../'"
   ]
  },
  {
   "cell_type": "code",
   "execution_count": null,
   "id": "f5a50d36",
   "metadata": {},
   "outputs": [],
   "source": [
    "data2 = pd.read_csv('./clear_out_data.csv')"
   ]
  },
  {
   "cell_type": "code",
   "execution_count": null,
   "id": "08ac8622",
   "metadata": {
    "scrolled": true
   },
   "outputs": [],
   "source": [
    "data2"
   ]
  },
  {
   "cell_type": "code",
   "execution_count": null,
   "id": "ac76bba4",
   "metadata": {},
   "outputs": [],
   "source": [
    "data2_1 = data2.iloc[0*round(len(data2)/5):1*round(len(data2)/5)]\n",
    "data2_2 = data2.iloc[1*round(len(data2)/5):2*round(len(data2)/5)]\n",
    "data2_3 = data2.iloc[2*round(len(data2)/5):3*round(len(data2)/5)]\n",
    "data2_4 = data2.iloc[3*round(len(data2)/5):4*round(len(data2)/5)]\n",
    "data2_5 = data2.iloc[4*round(len(data2)/5):5*round(len(data2)/5)]"
   ]
  },
  {
   "cell_type": "code",
   "execution_count": null,
   "id": "ac37dfdd",
   "metadata": {},
   "outputs": [],
   "source": [
    "from modules.initializer import Initializer\n",
    "from modules.transition_matrix import TransitionMatrix\n",
    "from modules.config import Config\n",
    "import pandas as pd\n",
    "import numpy as np\n",
    "from concurrent.futures import ProcessPoolExecutor\n",
    "from tqdm import tqdm"
   ]
  },
  {
   "cell_type": "code",
   "execution_count": null,
   "id": "676c3db2",
   "metadata": {},
   "outputs": [],
   "source": [
    "part = 5"
   ]
  },
  {
   "cell_type": "code",
   "execution_count": null,
   "id": "e367eb0a",
   "metadata": {},
   "outputs": [],
   "source": [
    "decomp2_file = open(f'./decomp2_{part}_text.txt','w')\n",
    "decomp2_file.close()\n",
    "decomp_file = open(f'./decomp_{part}_text.txt','w')\n",
    "decomp_file.close()\n",
    "system_file = open(f'./system_text_{part}.txt','w')\n",
    "system_file.close()"
   ]
  },
  {
   "cell_type": "code",
   "execution_count": null,
   "id": "995f8d4e-3d8f-456e-8295-e646478db21d",
   "metadata": {},
   "outputs": [],
   "source": [
    "import numpy as np\n",
    "from concurrent.futures import ProcessPoolExecutor\n",
    "from tqdm import tqdm\n",
    "from modules.initializer import Initializer\n",
    "from modules.transition_matrix import TransitionMatrix\n",
    "from modules.config import Config\n",
    "import pandas as pd\n",
    "\n",
    "# Assuming data2 is already loaded as a pandas DataFrame\n",
    "def process_formula(value, k=0):\n",
    "    if k == 0:\n",
    "        formula = value.replace('-', '1')\n",
    "    else:\n",
    "        formula = value\n",
    "    config = Config(formula)\n",
    "    initializer = Initializer(config)\n",
    "    atoms = initializer.distribute(end=1000, step=200)\n",
    "    matrix = TransitionMatrix(atoms, config).data\n",
    "    return matrix\n",
    "\n",
    "def process_row(row):\n",
    "    try:\n",
    "        index, i = row\n",
    "    #     if index % 500 == 0:\n",
    "    #         print(index)\n",
    "        system = i[1]\n",
    "        decomp = eval(i[10])\n",
    "        decomp2 = eval(i[11])\n",
    "\n",
    "        # Process system\n",
    "        system_matrix = process_formula(system)\n",
    "        string_elements = map(str, system_matrix.flatten())\n",
    "        resulting_string = ', '.join(string_elements)\n",
    "\n",
    "        # Process decomp\n",
    "        decomp_sum_matrix = np.zeros((40,40))\n",
    "        for j in decomp:\n",
    "            decomp_matrix = process_formula(j, k=1)\n",
    "            decomp_sum_matrix += decomp_matrix\n",
    "        string_elements2 = map(str, decomp_sum_matrix.flatten())\n",
    "        resulting_string2 = ', '.join(string_elements2)\n",
    "\n",
    "        # Process decomp2\n",
    "        decomp2_sum_matrix = np.zeros((40,40))\n",
    "        for m in decomp2:\n",
    "            decomp2_matrix = process_formula(m, k=1)\n",
    "            decomp2_sum_matrix += decomp2_matrix\n",
    "        string_elements3 = map(str, decomp2_sum_matrix.flatten())\n",
    "        resulting_string3 = ', '.join(string_elements3)\n",
    "\n",
    "        return resulting_string, resulting_string2, resulting_string3\n",
    "    except:\n",
    "        print(row)\n",
    "        return 'error', 'error', 'error'\n",
    "\n",
    "total = len(data2_5)\n",
    "\n",
    "with tqdm(total=total) as pbar:\n",
    "    with ProcessPoolExecutor(max_workers=8) as executor:\n",
    "        results = list(tqdm(executor.map(process_row, data2_5.iterrows()), total=total))\n",
    "        for res in results:\n",
    "            resulting_string, resulting_string2, resulting_string3 = res\n",
    "            \n",
    "            # Write results to files\n",
    "            with open(f'./decomp2_{part}_text.txt', 'a') as file:\n",
    "                file.write(resulting_string + '\\n')\n",
    "            with open(f'./decomp_{part}_text.txt', 'a') as file:\n",
    "                file.write(resulting_string2 + '\\n')\n",
    "            with open(f'./system_text_{part}.txt', 'a') as file:\n",
    "                file.write(resulting_string3 + '\\n')\n",
    "            pbar.update(1)\n"
   ]
  },
  {
   "cell_type": "code",
   "execution_count": null,
   "id": "9069e1ad",
   "metadata": {},
   "outputs": [],
   "source": [
    "part = 3"
   ]
  },
  {
   "cell_type": "code",
   "execution_count": null,
   "id": "aac9dc18",
   "metadata": {},
   "outputs": [],
   "source": [
    "with open(f'./system_text_{part}.txt', 'r') as fp:\n",
    "    data = fp.readlines()"
   ]
  },
  {
   "cell_type": "code",
   "execution_count": null,
   "id": "1205701b",
   "metadata": {},
   "outputs": [],
   "source": [
    "[round(float(i), 5) for i in data[1].split(',')]"
   ]
  },
  {
   "cell_type": "code",
   "execution_count": null,
   "id": "3f3fcf07",
   "metadata": {},
   "outputs": [],
   "source": [
    "for i in data:\n",
    "    if i [0] == 'e':\n",
    "        print(i)"
   ]
  },
  {
   "cell_type": "code",
   "execution_count": null,
   "id": "934968b4",
   "metadata": {},
   "outputs": [],
   "source": [
    "X = []\n",
    "Y = []"
   ]
  },
  {
   "cell_type": "code",
   "execution_count": null,
   "id": "ded68014",
   "metadata": {},
   "outputs": [],
   "source": [
    "for index in range(1,6):\n",
    "    print(index)\n",
    "    with open(f'./system_text_{index}.txt', 'r') as fp:\n",
    "        x = fp.readlines()\n",
    "    \n",
    "    for i in x:\n",
    "        if i != 'error\\n':\n",
    "            X.append([round(float(j), 5) for j in i.split(',')])\n",
    "        else:\n",
    "            continue\n",
    "    \n",
    "    with open(f'./decomp_{index}_text.txt', 'r') as fp1:\n",
    "        y = fp1.readlines()\n",
    "    \n",
    "    for k in y:\n",
    "        if k != 'error\\n':\n",
    "            Y.append([round(float(z), 5) for z in k.split(',')])\n",
    "        else:\n",
    "            continue\n",
    "    \n",
    "    fp.close()\n",
    "    fp1.close()"
   ]
  },
  {
   "cell_type": "code",
   "execution_count": null,
   "id": "64e9601f",
   "metadata": {},
   "outputs": [],
   "source": [
    "import pickle\n",
    "\n",
    "# with open('./X_train.pkl', 'wb') as file: \n",
    "#     pickle.dump(Y, file) "
   ]
  },
  {
   "cell_type": "code",
   "execution_count": null,
   "id": "8f5d4bae",
   "metadata": {},
   "outputs": [],
   "source": [
    "with open('./Y_arr_train.pkl', 'rb') as file: \n",
    "    Y = pickle.load(file) "
   ]
  },
  {
   "cell_type": "code",
   "execution_count": null,
   "id": "b932cb5a",
   "metadata": {
    "scrolled": true
   },
   "outputs": [],
   "source": [
    "Y[0]"
   ]
  },
  {
   "cell_type": "code",
   "execution_count": null,
   "id": "e47c2f61",
   "metadata": {},
   "outputs": [],
   "source": [
    "import numpy as np\n",
    "Y_arr=np.array([np.array(xi) for xi in Y])"
   ]
  },
  {
   "cell_type": "code",
   "execution_count": null,
   "id": "a3d180c8",
   "metadata": {},
   "outputs": [],
   "source": [
    "with open('./Y_arr_train.pkl', 'wb') as file: \n",
    "    pickle.dump(Y_arr, file) "
   ]
  },
  {
   "cell_type": "code",
   "execution_count": null,
   "id": "e963a507",
   "metadata": {},
   "outputs": [],
   "source": [
    "len(X)"
   ]
  },
  {
   "cell_type": "code",
   "execution_count": null,
   "id": "a9065243",
   "metadata": {},
   "outputs": [],
   "source": [
    "import pickle\n",
    "import numpy as np"
   ]
  },
  {
   "cell_type": "code",
   "execution_count": null,
   "id": "b098f3b8",
   "metadata": {},
   "outputs": [],
   "source": [
    "with open('./Y_arr_train.pkl', 'rb') as file: \n",
    "    Y = pickle.load(file)"
   ]
  },
  {
   "cell_type": "code",
   "execution_count": null,
   "id": "95f471b0",
   "metadata": {},
   "outputs": [],
   "source": [
    "with open('./X_arr_train.pkl', 'rb') as file: \n",
    "    X = pickle.load(file) "
   ]
  },
  {
   "cell_type": "code",
   "execution_count": null,
   "id": "fe8bb210",
   "metadata": {},
   "outputs": [],
   "source": [
    "import tensorflow as tf\n",
    "from tensorflow.keras.models import Sequential\n",
    "from tensorflow.keras.layers import Dense, Flatten, Reshape, InputLayer\n",
    "\n",
    "# Input shape\n",
    "input_shape = 1600  # 40x40 matrix\n",
    "input_dim = 1600  # Flattened size\n",
    "\n",
    "# Create the model\n",
    "model = Sequential()\n",
    "\n",
    "# Input layer\n",
    "model.add(InputLayer(input_shape))\n",
    "\n",
    "# Hidden layer\n",
    "model.add(Dense(6400, activation='relu'))\n",
    "\n",
    "# Output layer\n",
    "model.add(Dense(input_dim, activation='linear'))\n",
    "# model.add(Reshape(input_shape))\n",
    "\n",
    "# Compile the model\n",
    "model.compile(optimizer='adam', loss='mse')\n"
   ]
  },
  {
   "cell_type": "code",
   "execution_count": null,
   "id": "00f2fe01",
   "metadata": {},
   "outputs": [],
   "source": [
    "# Example training data\n",
    "import numpy as np\n",
    "from sklearn.model_selection import train_test_split\n",
    "\n",
    "X_train, X_test, Y_train, Y_test = train_test_split(X, Y, test_size=0.2, random_state=42)\n",
    "\n",
    "# Train the model\n",
    "model.fit(X_train, Y_train, epochs=10, batch_size=32)\n"
   ]
  },
  {
   "cell_type": "code",
   "execution_count": null,
   "id": "1d135b37",
   "metadata": {},
   "outputs": [],
   "source": [
    "# Display the model summary\n",
    "model.summary()"
   ]
  },
  {
   "cell_type": "code",
   "execution_count": null,
   "id": "84079cb3",
   "metadata": {},
   "outputs": [],
   "source": [
    "len(Y[0])"
   ]
  },
  {
   "cell_type": "code",
   "execution_count": null,
   "id": "f62c397c",
   "metadata": {},
   "outputs": [],
   "source": []
  }
 ],
 "metadata": {
  "kernelspec": {
   "display_name": "Python 3 (ipykernel)",
   "language": "python",
   "name": "python3"
  },
  "language_info": {
   "codemirror_mode": {
    "name": "ipython",
    "version": 3
   },
   "file_extension": ".py",
   "mimetype": "text/x-python",
   "name": "python",
   "nbconvert_exporter": "python",
   "pygments_lexer": "ipython3",
   "version": "3.10.12"
  }
 },
 "nbformat": 4,
 "nbformat_minor": 5
}
