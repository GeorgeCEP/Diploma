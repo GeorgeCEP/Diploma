{
  "cells": [
    {
      "cell_type": "code",
      "execution_count": null,
      "metadata": {
        "id": "ovUQ_brCCpGw"
      },
      "outputs": [],
      "source": [
        "import pickle\n",
        "import numpy as np"
      ]
    },
    {
      "cell_type": "code",
      "execution_count": null,
      "metadata": {
        "id": "bEzVNMBw6TrD"
      },
      "outputs": [],
      "source": [
        "with open('./Y_arr_train.pkl', 'rb') as file:\n",
        "    Y = pickle.load(file)"
      ]
    },
    {
      "cell_type": "code",
      "execution_count": null,
      "metadata": {
        "id": "RfFrEbkeCs7f"
      },
      "outputs": [],
      "source": [
        "with open('./X_arr_train.pkl', 'rb') as file:\n",
        "    X = pickle.load(file)"
      ]
    },
    {
      "cell_type": "code",
      "execution_count": null,
      "metadata": {
        "id": "_eRoMmGVBDPs"
      },
      "outputs": [],
      "source": [
        "inf_X = np.argwhere(np.isinf(X))\n",
        "inf_Y = np.argwhere(np.isinf(Y))\n",
        "if inf_X.size > 0:\n",
        "    print(\"Inf in X founded at index:\", inf_X)\n",
        "if inf_Y.size > 0:\n",
        "    print(\"Inf in Y founded at index:\", inf_Y)"
      ]
    },
    {
      "cell_type": "code",
      "execution_count": null,
      "metadata": {
        "colab": {
          "base_uri": "https://localhost:8080/"
        },
        "id": "UMw7q7pJBY52",
        "outputId": "c497935f-7954-4f2b-a4dd-75d790fbc10e"
      },
      "outputs": [
        {
          "name": "stdout",
          "output_type": "stream",
          "text": [
            "NaN значения в X найдены по индексам: [[79096   492]\n",
            " [79096   518]]\n",
            "NaN значения в Y найдены по индексам: [[ 2237   492]\n",
            " [ 2237   518]\n",
            " [23229  1598]\n",
            " [23229  1599]\n",
            " [44004  1394]\n",
            " [44004  1398]\n",
            " [56549   246]\n",
            " [56549   278]]\n"
          ]
        }
      ],
      "source": [
        "nan_X = np.argwhere(np.isnan(X))\n",
        "nan_Y = np.argwhere(np.isnan(Y))\n",
        "if nan_X.size > 0:\n",
        "    print(\"NaN in X founded at index:\", nan_X)\n",
        "if nan_Y.size > 0:\n",
        "    print(\"NaN in Y founded at index:\", nan_Y)"
      ]
    },
    {
      "cell_type": "code",
      "execution_count": null,
      "metadata": {
        "id": "o25RHK7CDeGy"
      },
      "outputs": [],
      "source": [
        "X[-1].reshape(40,40)\n",
        "\n",
        "matrix = []\n",
        "\n",
        "for i in range(1600):\n",
        "  row = []\n",
        "  if i % 40 != 0:\n",
        "    row.append(X[-1][i])\n",
        "  else:\n",
        "    matrix.append(row)\n",
        "    row = []\n",
        "    row.append(X[-1][i])\n"
      ]
    },
    {
      "cell_type": "code",
      "execution_count": null,
      "metadata": {
        "colab": {
          "base_uri": "https://localhost:8080/"
        },
        "id": "_WrUKjqLEfmT",
        "outputId": "2529535d-acd6-423d-cf97-fc54c347955b"
      },
      "outputs": [
        {
          "name": "stdout",
          "output_type": "stream",
          "text": [
            "[[0. 0. 0. ... 0. 0. 0.]\n",
            " [0. 0. 0. ... 0. 0. 0.]\n",
            " [0. 0. 0. ... 0. 0. 0.]\n",
            " ...\n",
            " [0. 0. 0. ... 0. 0. 0.]\n",
            " [0. 0. 0. ... 0. 0. 0.]\n",
            " [0. 0. 0. ... 0. 0. 0.]]\n"
          ]
        }
      ],
      "source": [
        "print(X[-1].reshape(40,40))"
      ]
    },
    {
      "cell_type": "code",
      "execution_count": null,
      "metadata": {
        "id": "HE0i01itCPp4"
      },
      "outputs": [],
      "source": [
        "nan_indices_X = np.argwhere(np.isnan(X))\n",
        "nan_indices_Y = np.argwhere(np.isnan(Y))\n",
        "inf_indices_X = np.argwhere(np.isinf(X))\n",
        "inf_indices_Y = np.argwhere(np.isinf(Y))\n",
        "\n",
        "# Объединение всех индексов для удаления\n",
        "all_nan_inf_indices = np.unique(np.concatenate((nan_indices_X[:, 0], nan_indices_Y[:, 0], inf_indices_X[:, 0], inf_indices_Y[:, 0])))\n",
        "all_nan_inf_indices\n",
        "# Удаление соответствующих элементов из X и Y\n",
        "X_clean = np.delete(X, all_nan_inf_indices, axis=0)\n",
        "Y_clean = np.delete(Y, all_nan_inf_indices, axis=0)\n",
        "\n",
        "# Проверка, что размеры массивов совпадают\n",
        "assert X_clean.shape[0] == Y_clean.shape[0]"
      ]
    },
    {
      "cell_type": "code",
      "execution_count": null,
      "metadata": {
        "id": "W56zaSiU98z4"
      },
      "outputs": [],
      "source": [
        "import tensorflow as tf\n",
        "from tensorflow.keras.models import Sequential\n",
        "from tensorflow.keras.layers import Dense, Flatten, Reshape, InputLayer\n",
        "from tensorflow.keras.optimizers import Adam\n",
        "\n",
        "# Создание модели\n",
        "input_shape = 1600  # 40x40 матрица\n",
        "\n",
        "model = Sequential()\n",
        "model.add(InputLayer(input_shape=input_shape))\n",
        "model.add(Dense(6400, activation='relu'))\n",
        "model.add(Dense(1600, activation='linear'))\n",
        "# model.add(Reshape(input_shape))\n",
        "\n",
        "# Компиляция модели с пониженной скоростью обучения и градиентным клиппингом\n",
        "optimizer = Adam()\n",
        "model.compile(optimizer=optimizer, loss='mse')\n",
        "\n"
      ]
    },
    {
      "cell_type": "code",
      "execution_count": null,
      "metadata": {
        "id": "Fxhh3Hkq-A4r"
      },
      "outputs": [],
      "source": [
        "import numpy as np\n",
        "from sklearn.model_selection import train_test_split\n",
        "from scipy.sparse import csr_matrix\n",
        "\n",
        "X_clean = csr_matrix(X_clean)\n",
        "Y_clean = csr_matrix(Y_clean)\n",
        "\n",
        "X_clean_dense = X_clean.todense()\n",
        "Y_clean_dense = Y_clean.todense()\n"
      ]
    },
    {
      "cell_type": "code",
      "execution_count": null,
      "metadata": {
        "id": "in1-8Rxr26hX"
      },
      "outputs": [],
      "source": [
        "X_train, X_test, Y_train, Y_test = train_test_split(X_clean_dense, Y_clean_dense, test_size=0.2, random_state=42)"
      ]
    },
    {
      "cell_type": "code",
      "execution_count": null,
      "metadata": {
        "colab": {
          "base_uri": "https://localhost:8080/"
        },
        "id": "g-ICNJOcC3BM",
        "outputId": "56c993f3-9156-4b30-83bc-84e5a2188419"
      },
      "outputs": [
        {
          "name": "stdout",
          "output_type": "stream",
          "text": [
            "Epoch 1/20\n",
            "286/286 [==============================] - 15s 26ms/step - loss: 8.0116e-04 - val_loss: 3.9802e-04 - lr: 0.0010\n",
            "Epoch 2/20\n",
            "286/286 [==============================] - 5s 16ms/step - loss: 3.6150e-04 - val_loss: 3.5078e-04 - lr: 0.0010\n",
            "Epoch 3/20\n",
            "286/286 [==============================] - 4s 15ms/step - loss: 3.2883e-04 - val_loss: 3.3226e-04 - lr: 0.0010\n",
            "Epoch 4/20\n",
            "286/286 [==============================] - 4s 16ms/step - loss: 3.0953e-04 - val_loss: 3.2058e-04 - lr: 0.0010\n",
            "Epoch 5/20\n",
            "286/286 [==============================] - 5s 16ms/step - loss: 2.7423e-04 - val_loss: 2.9457e-04 - lr: 2.0000e-04\n",
            "Epoch 6/20\n",
            "286/286 [==============================] - 4s 16ms/step - loss: 2.6841e-04 - val_loss: 2.9197e-04 - lr: 2.0000e-04\n",
            "Epoch 7/20\n",
            "286/286 [==============================] - 5s 16ms/step - loss: 2.6520e-04 - val_loss: 2.9033e-04 - lr: 2.0000e-04\n",
            "Epoch 8/20\n",
            "286/286 [==============================] - 6s 19ms/step - loss: 2.6218e-04 - val_loss: 2.8770e-04 - lr: 2.0000e-04\n",
            "Epoch 9/20\n",
            "286/286 [==============================] - 6s 19ms/step - loss: 2.5465e-04 - val_loss: 2.8406e-04 - lr: 4.0000e-05\n",
            "Epoch 10/20\n",
            "286/286 [==============================] - 5s 16ms/step - loss: 2.5353e-04 - val_loss: 2.8344e-04 - lr: 4.0000e-05\n",
            "Epoch 11/20\n",
            "286/286 [==============================] - 5s 16ms/step - loss: 2.5282e-04 - val_loss: 2.8292e-04 - lr: 4.0000e-05\n",
            "Epoch 12/20\n",
            "286/286 [==============================] - 5s 16ms/step - loss: 2.5103e-04 - val_loss: 2.8237e-04 - lr: 8.0000e-06\n",
            "Epoch 13/20\n",
            "286/286 [==============================] - 5s 16ms/step - loss: 2.5082e-04 - val_loss: 2.8226e-04 - lr: 8.0000e-06\n",
            "Epoch 14/20\n",
            "286/286 [==============================] - 4s 15ms/step - loss: 2.5068e-04 - val_loss: 2.8216e-04 - lr: 8.0000e-06\n",
            "Epoch 15/20\n",
            "286/286 [==============================] - 5s 16ms/step - loss: 2.5027e-04 - val_loss: 2.8207e-04 - lr: 1.6000e-06\n",
            "Epoch 16/20\n",
            "286/286 [==============================] - 4s 15ms/step - loss: 2.5023e-04 - val_loss: 2.8205e-04 - lr: 1.6000e-06\n",
            "Epoch 17/20\n",
            "286/286 [==============================] - 5s 17ms/step - loss: 2.5020e-04 - val_loss: 2.8203e-04 - lr: 1.6000e-06\n",
            "Epoch 18/20\n",
            "286/286 [==============================] - 5s 17ms/step - loss: 2.5015e-04 - val_loss: 2.8201e-04 - lr: 1.0000e-06\n",
            "Epoch 19/20\n",
            "286/286 [==============================] - 5s 16ms/step - loss: 2.5013e-04 - val_loss: 2.8200e-04 - lr: 1.0000e-06\n",
            "Epoch 20/20\n",
            "286/286 [==============================] - 5s 16ms/step - loss: 2.5011e-04 - val_loss: 2.8199e-04 - lr: 1.0000e-06\n"
          ]
        }
      ],
      "source": [
        "from tensorflow.keras.callbacks import ReduceLROnPlateau\n",
        "\n",
        "reduce_lr = ReduceLROnPlateau(monitor='val_loss', factor=0.15, patience=2, min_lr=1e-6)\n",
        "history = model.fit(X_train, Y_train, epochs=20, batch_size=256, validation_data=(X_test, Y_test), callbacks=[reduce_lr])"
      ]
    },
    {
      "cell_type": "code",
      "execution_count": null,
      "metadata": {
        "colab": {
          "base_uri": "https://localhost:8080/",
          "height": 524
        },
        "id": "yICuGVTqFgh5",
        "outputId": "0f51594b-4bb5-4339-8f7b-97b51537cc1e"
      },
      "outputs": [
        {
          "data": {
            "image/png": "[encoded data removed]",
            "text/plain": [
              "<Figure size 1000x500 with 1 Axes>"
            ]
          },
          "metadata": {},
          "output_type": "display_data"
        },
        {
          "name": "stdout",
          "output_type": "stream",
          "text": [
            "572/572 [==============================] - 2s 4ms/step - loss: 2.8199e-04\n",
            "Test loss: 0.0002819852961692959\n"
          ]
        }
      ],
      "source": [
        "import matplotlib.pyplot as plt\n",
        "\n",
        "# Визуализация истории обучения\n",
        "plt.figure(figsize=(10, 5))\n",
        "plt.plot(history.history['loss'], label='Training Loss')\n",
        "plt.plot(history.history['val_loss'], label='Validation Loss')\n",
        "plt.title('Model Loss')\n",
        "plt.xlabel('Epoch')\n",
        "plt.ylabel('Loss')\n",
        "plt.legend()\n",
        "plt.show()\n",
        "\n",
        "# Оценка модели на тестовом наборе\n",
        "loss = model.evaluate(X_test, Y_test)\n",
        "print(\"Test loss:\", loss)"
      ]
    }
  ],
  "metadata": {
    "accelerator": "GPU",
    "colab": {
      "gpuType": "T4",
      "provenance": []
    },
    "kernelspec": {
      "display_name": "Python 3",
      "name": "python3"
    },
    "language_info": {
      "name": "python"
    }
  },
  "nbformat": 4,
  "nbformat_minor": 0
}
